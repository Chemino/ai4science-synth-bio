{
 "cells": [
  {
   "cell_type": "markdown",
   "metadata": {},
   "source": [
    "# Data analysis of MNX dataset\n",
    "\n",
    "To understand more about the reaction contained."
   ]
  },
  {
   "cell_type": "code",
   "execution_count": null,
   "metadata": {},
   "outputs": [],
   "source": [
    "import pandas as pd\n",
    "import numpy as np\n",
    "import matplotlib.pyplot as plt\n",
    "from tqdm import tqdm, trange"
   ]
  },
  {
   "cell_type": "code",
   "execution_count": null,
   "metadata": {},
   "outputs": [],
   "source": [
    "reac = pd.read_csv('mnx_reac_bioreachable.csv')\n",
    "for col in ['substrates_SMILES', 'products_SMILES']:\n",
    "    reac[col] = reac[col].apply(eval)\n",
    "reac"
   ]
  },
  {
   "cell_type": "markdown",
   "metadata": {},
   "source": [
    "## Measure the difference between substrates and products\n",
    "\n",
    "1. Take the largest molecule from both substrates and products\n",
    "2. Compute the maximum common substructure (MCS) of the two molecules\n",
    "3. Take the maximum difference in number of molecules between either substrates or products and the MCS"
   ]
  },
  {
   "cell_type": "code",
   "execution_count": null,
   "metadata": {},
   "outputs": [],
   "source": [
    "from rdkit.Chem import MolFromSmiles, MolToSmiles, rdFMCS\n",
    "\n",
    "def numAtoms(mol):\n",
    "    return len(list(mol.GetAtoms()))"
   ]
  },
  {
   "cell_type": "code",
   "execution_count": null,
   "metadata": {},
   "outputs": [],
   "source": [
    "diff_list = []\n",
    "for i in trange(len(reac[:80])):\n",
    "\n",
    "    substrates_mol = [MolFromSmiles(smi) for smi in reac.loc[i, 'substrates_SMILES']]\n",
    "    products_mol = [MolFromSmiles(smi) for smi in reac.loc[i, 'products_SMILES']]\n",
    "\n",
    "    substrate_max = max(substrates_mol, key=numAtoms)\n",
    "    product_max = max(products_mol, key=numAtoms)\n",
    "    # print(MolToSmiles(substrate_max), MolToSmiles(product_max))\n",
    "\n",
    "    mcs = rdFMCS.FindMCS([substrate_max, product_max])\n",
    "    diff = max(numAtoms(substrate_max) - mcs.numAtoms, numAtoms(product_max) - mcs.numAtoms)\n",
    "    # print(diff)\n",
    "\n",
    "    diff_list.append(diff)"
   ]
  },
  {
   "cell_type": "code",
   "execution_count": null,
   "metadata": {},
   "outputs": [],
   "source": [
    "plt.hist(diff_list)"
   ]
  }
 ],
 "metadata": {
  "interpreter": {
   "hash": "340bcad0072f115b1765b142a3d880742cff9ef9e50a441d07591b989afd1795"
  },
  "kernelspec": {
   "display_name": "Python 3.10.2 ('AIHacks')",
   "language": "python",
   "name": "python3"
  },
  "language_info": {
   "codemirror_mode": {
    "name": "ipython",
    "version": 3
   },
   "file_extension": ".py",
   "mimetype": "text/x-python",
   "name": "python",
   "nbconvert_exporter": "python",
   "pygments_lexer": "ipython3",
   "version": "3.10.2"
  },
  "orig_nbformat": 4
 },
 "nbformat": 4,
 "nbformat_minor": 2
}
