{
 "cells": [
  {
   "cell_type": "markdown",
   "metadata": {},
   "source": [
    "# Data analysis of MNX dataset\n",
    "\n",
    "To understand more about the reaction contained."
   ]
  },
  {
   "cell_type": "code",
   "execution_count": 7,
   "metadata": {},
   "outputs": [],
   "source": [
    "import pandas as pd\n",
    "import numpy as np\n",
    "import matplotlib.pyplot as plt\n",
    "from tqdm import tqdm, trange"
   ]
  },
  {
   "cell_type": "code",
   "execution_count": 8,
   "metadata": {},
   "outputs": [
    {
     "data": {
      "text/html": [
       "<div>\n",
       "<style scoped>\n",
       "    .dataframe tbody tr th:only-of-type {\n",
       "        vertical-align: middle;\n",
       "    }\n",
       "\n",
       "    .dataframe tbody tr th {\n",
       "        vertical-align: top;\n",
       "    }\n",
       "\n",
       "    .dataframe thead th {\n",
       "        text-align: right;\n",
       "    }\n",
       "</style>\n",
       "<table border=\"1\" class=\"dataframe\">\n",
       "  <thead>\n",
       "    <tr style=\"text-align: right;\">\n",
       "      <th></th>\n",
       "      <th>#ID</th>\n",
       "      <th>equation</th>\n",
       "      <th>substrates_SMILES</th>\n",
       "      <th>products_SMILES</th>\n",
       "    </tr>\n",
       "  </thead>\n",
       "  <tbody>\n",
       "    <tr>\n",
       "      <th>0</th>\n",
       "      <td>MNXR100011</td>\n",
       "      <td>1 MNXM1108175 + 1 MNXM1 + 2 MNXM27 + 1 MNXM403...</td>\n",
       "      <td>[[H+], OC[C@H]1O[C@H](O)[C@H](O)[C@@H](O)[C@H]...</td>\n",
       "      <td>[OC[C@H]1O[C@H](O)[C@H](O)[C@@H](O)[C@H]1O, [N...</td>\n",
       "    </tr>\n",
       "    <tr>\n",
       "      <th>1</th>\n",
       "      <td>MNXR100018</td>\n",
       "      <td>1 MNXM1233 + 1 MNXM73 = 1 MNXM23 + 1 MNXM731248</td>\n",
       "      <td>[OC[C@H](O)[C@@H](O)[C@@H](O)[C@H](O)CO, C=C(O...</td>\n",
       "      <td>[CC(=O)C(=O)[O-], O=P([O-])([O-])OC[C@H](O)[C@...</td>\n",
       "    </tr>\n",
       "    <tr>\n",
       "      <th>2</th>\n",
       "      <td>MNXR100024</td>\n",
       "      <td>1 MNXM1 + 1 MNXM37 + 1 MNXM40333 + 1 MNXM9 = 1...</td>\n",
       "      <td>[[H+], NC(=O)CC[C@H]([NH3+])C(=O)[O-], Nc1ncnc...</td>\n",
       "      <td>[Nc1ncnc2c1ncn2[C@@H]1O[C@H](COP(=O)([O-])OP(=...</td>\n",
       "    </tr>\n",
       "    <tr>\n",
       "      <th>3</th>\n",
       "      <td>MNXR100030</td>\n",
       "      <td>1 MNXM37 + 1 WATER = 1 MNXM729302 + 1 MNXM741173</td>\n",
       "      <td>[NC(=O)CC[C@H]([NH3+])C(=O)[O-]]</td>\n",
       "      <td>[[NH4+], [NH3+][C@@H](CCC(=O)[O-])C(=O)[O-]]</td>\n",
       "    </tr>\n",
       "    <tr>\n",
       "      <th>4</th>\n",
       "      <td>MNXR100036</td>\n",
       "      <td>1 MNXM1104266 + 1 MNXM6274 = 1 MNXM6987 + 1 MN...</td>\n",
       "      <td>[CC(=O)SCCNC(=O)CCNC(=O)[C@H](O)C(C)(C)COP(=O)...</td>\n",
       "      <td>[CCCCCCCCCCCCC/C=C/[C@@H](O)[C@H](CO[C@@H]1O[C...</td>\n",
       "    </tr>\n",
       "    <tr>\n",
       "      <th>...</th>\n",
       "      <td>...</td>\n",
       "      <td>...</td>\n",
       "      <td>...</td>\n",
       "      <td>...</td>\n",
       "    </tr>\n",
       "    <tr>\n",
       "      <th>46305</th>\n",
       "      <td>MNXR99957</td>\n",
       "      <td>1 MNXM1627 + 1 WATER = 1 MNXM1734</td>\n",
       "      <td>[O=C([O-])C(=O)C[C@@H](O)[C@H](O)CO]</td>\n",
       "      <td>[O=C([O-])[C@H](O)[C@@H](O)[C@@H](O)[C@H](O)CO]</td>\n",
       "    </tr>\n",
       "    <tr>\n",
       "      <th>46306</th>\n",
       "      <td>MNXR99976</td>\n",
       "      <td>1 MNXM1100890 + 1 MNXM1105733 = 1 MNXM1102128 ...</td>\n",
       "      <td>[CC(=O)N[C@H]1[C@@H](OP(=O)([O-])OP(=O)([O-])O...</td>\n",
       "      <td>[O=c1ccn([C@@H]2O[C@H](COP(=O)([O-])OP(=O)([O-...</td>\n",
       "    </tr>\n",
       "    <tr>\n",
       "      <th>46307</th>\n",
       "      <td>MNXR99978</td>\n",
       "      <td>1 MNXM1100890 + 1 MNXM8636 = 1 MNXM1102128 + 1...</td>\n",
       "      <td>[CC(=O)N[C@H]1[C@@H](OP(=O)([O-])OP(=O)([O-])O...</td>\n",
       "      <td>[O=c1ccn([C@@H]2O[C@H](COP(=O)([O-])OP(=O)([O-...</td>\n",
       "    </tr>\n",
       "    <tr>\n",
       "      <th>46308</th>\n",
       "      <td>MNXR99980</td>\n",
       "      <td>1 MNXM1100890 + 1 MNXM6274 = 1 MNXM1102128 + 1...</td>\n",
       "      <td>[CC(=O)N[C@H]1[C@@H](OP(=O)([O-])OP(=O)([O-])O...</td>\n",
       "      <td>[O=c1ccn([C@@H]2O[C@H](COP(=O)([O-])OP(=O)([O-...</td>\n",
       "    </tr>\n",
       "    <tr>\n",
       "      <th>46309</th>\n",
       "      <td>MNXR99982</td>\n",
       "      <td>1 MNXM1100890 + 1 MNXM7406 = 1 MNXM1102128 + 1...</td>\n",
       "      <td>[CC(=O)N[C@H]1[C@@H](OP(=O)([O-])OP(=O)([O-])O...</td>\n",
       "      <td>[O=c1ccn([C@@H]2O[C@H](COP(=O)([O-])OP(=O)([O-...</td>\n",
       "    </tr>\n",
       "  </tbody>\n",
       "</table>\n",
       "<p>46310 rows × 4 columns</p>\n",
       "</div>"
      ],
      "text/plain": [
       "              #ID                                           equation  \\\n",
       "0      MNXR100011  1 MNXM1108175 + 1 MNXM1 + 2 MNXM27 + 1 MNXM403...   \n",
       "1      MNXR100018    1 MNXM1233 + 1 MNXM73 = 1 MNXM23 + 1 MNXM731248   \n",
       "2      MNXR100024  1 MNXM1 + 1 MNXM37 + 1 MNXM40333 + 1 MNXM9 = 1...   \n",
       "3      MNXR100030   1 MNXM37 + 1 WATER = 1 MNXM729302 + 1 MNXM741173   \n",
       "4      MNXR100036  1 MNXM1104266 + 1 MNXM6274 = 1 MNXM6987 + 1 MN...   \n",
       "...           ...                                                ...   \n",
       "46305   MNXR99957                  1 MNXM1627 + 1 WATER = 1 MNXM1734   \n",
       "46306   MNXR99976  1 MNXM1100890 + 1 MNXM1105733 = 1 MNXM1102128 ...   \n",
       "46307   MNXR99978  1 MNXM1100890 + 1 MNXM8636 = 1 MNXM1102128 + 1...   \n",
       "46308   MNXR99980  1 MNXM1100890 + 1 MNXM6274 = 1 MNXM1102128 + 1...   \n",
       "46309   MNXR99982  1 MNXM1100890 + 1 MNXM7406 = 1 MNXM1102128 + 1...   \n",
       "\n",
       "                                       substrates_SMILES  \\\n",
       "0      [[H+], OC[C@H]1O[C@H](O)[C@H](O)[C@@H](O)[C@H]...   \n",
       "1      [OC[C@H](O)[C@@H](O)[C@@H](O)[C@H](O)CO, C=C(O...   \n",
       "2      [[H+], NC(=O)CC[C@H]([NH3+])C(=O)[O-], Nc1ncnc...   \n",
       "3                       [NC(=O)CC[C@H]([NH3+])C(=O)[O-]]   \n",
       "4      [CC(=O)SCCNC(=O)CCNC(=O)[C@H](O)C(C)(C)COP(=O)...   \n",
       "...                                                  ...   \n",
       "46305               [O=C([O-])C(=O)C[C@@H](O)[C@H](O)CO]   \n",
       "46306  [CC(=O)N[C@H]1[C@@H](OP(=O)([O-])OP(=O)([O-])O...   \n",
       "46307  [CC(=O)N[C@H]1[C@@H](OP(=O)([O-])OP(=O)([O-])O...   \n",
       "46308  [CC(=O)N[C@H]1[C@@H](OP(=O)([O-])OP(=O)([O-])O...   \n",
       "46309  [CC(=O)N[C@H]1[C@@H](OP(=O)([O-])OP(=O)([O-])O...   \n",
       "\n",
       "                                         products_SMILES  \n",
       "0      [OC[C@H]1O[C@H](O)[C@H](O)[C@@H](O)[C@H]1O, [N...  \n",
       "1      [CC(=O)C(=O)[O-], O=P([O-])([O-])OC[C@H](O)[C@...  \n",
       "2      [Nc1ncnc2c1ncn2[C@@H]1O[C@H](COP(=O)([O-])OP(=...  \n",
       "3           [[NH4+], [NH3+][C@@H](CCC(=O)[O-])C(=O)[O-]]  \n",
       "4      [CCCCCCCCCCCCC/C=C/[C@@H](O)[C@H](CO[C@@H]1O[C...  \n",
       "...                                                  ...  \n",
       "46305    [O=C([O-])[C@H](O)[C@@H](O)[C@@H](O)[C@H](O)CO]  \n",
       "46306  [O=c1ccn([C@@H]2O[C@H](COP(=O)([O-])OP(=O)([O-...  \n",
       "46307  [O=c1ccn([C@@H]2O[C@H](COP(=O)([O-])OP(=O)([O-...  \n",
       "46308  [O=c1ccn([C@@H]2O[C@H](COP(=O)([O-])OP(=O)([O-...  \n",
       "46309  [O=c1ccn([C@@H]2O[C@H](COP(=O)([O-])OP(=O)([O-...  \n",
       "\n",
       "[46310 rows x 4 columns]"
      ]
     },
     "execution_count": 8,
     "metadata": {},
     "output_type": "execute_result"
    }
   ],
   "source": [
    "reac = pd.read_csv('mnx_reac_bioreachable.csv')\n",
    "for col in ['substrates_SMILES', 'products_SMILES']:\n",
    "    reac[col] = reac[col].apply(eval)\n",
    "reac"
   ]
  },
  {
   "cell_type": "markdown",
   "metadata": {},
   "source": [
    "## Measure the difference between substrates and products\n",
    "\n",
    "1. Take the largest molecule from both substrates and products\n",
    "2. Take the difference in number of molecules between biggest substrates and biggest products"
   ]
  },
  {
   "cell_type": "code",
   "execution_count": 9,
   "metadata": {},
   "outputs": [],
   "source": [
    "from rdkit.Chem import MolFromSmiles, MolToSmiles\n",
    "\n",
    "def numAtoms(mol):\n",
    "    return len(list(mol.GetAtoms()))"
   ]
  },
  {
   "cell_type": "code",
   "execution_count": 10,
   "metadata": {},
   "outputs": [
    {
     "name": "stderr",
     "output_type": "stream",
     "text": [
      "100%|██████████| 46310/46310 [01:37<00:00, 473.61it/s]\n"
     ]
    }
   ],
   "source": [
    "diff_list = []\n",
    "for i in trange(len(reac)):\n",
    "\n",
    "    substrates_mol = [MolFromSmiles(smi) for smi in reac.loc[i, 'substrates_SMILES']]\n",
    "    products_mol = [MolFromSmiles(smi) for smi in reac.loc[i, 'products_SMILES']]\n",
    "    \n",
    "    substrate_max = max(substrates_mol, key=numAtoms)\n",
    "    product_max = max(products_mol, key=numAtoms)\n",
    "    # print(MolToSmiles(substrate_max), MolToSmiles(product_max))\n",
    "\n",
    "    diff = abs(numAtoms(substrate_max) - numAtoms(product_max))\n",
    "    # print(diff)\n",
    "\n",
    "    diff_list.append(diff)"
   ]
  },
  {
   "cell_type": "code",
   "execution_count": 19,
   "metadata": {},
   "outputs": [
    {
     "data": {
      "text/plain": [
       "(array([4.6014e+04, 2.2800e+02, 2.4000e+01, 8.0000e+00, 1.4000e+01,\n",
       "        7.0000e+00, 6.0000e+00, 7.0000e+00, 0.0000e+00, 2.0000e+00]),\n",
       " array([  0. ,  45.9,  91.8, 137.7, 183.6, 229.5, 275.4, 321.3, 367.2,\n",
       "        413.1, 459. ]),\n",
       " <BarContainer object of 10 artists>)"
      ]
     },
     "execution_count": 19,
     "metadata": {},
     "output_type": "execute_result"
    },
    {
     "data": {
      "image/png": "[encoded data removed]",
      "text/plain": [
       "<Figure size 432x288 with 1 Axes>"
      ]
     },
     "metadata": {
      "needs_background": "light"
     },
     "output_type": "display_data"
    }
   ],
   "source": [
    "plt.hist(diff_list)"
   ]
  },
  {
   "cell_type": "code",
   "execution_count": 22,
   "metadata": {},
   "outputs": [
    {
     "data": {
      "text/plain": [
       "(array([32456.,  5625.,  4113.,  1890.,  1169.,   373.,   177.,   105.,\n",
       "           92.,    57.]),\n",
       " array([ 0. ,  4.9,  9.8, 14.7, 19.6, 24.5, 29.4, 34.3, 39.2, 44.1, 49. ]),\n",
       " <BarContainer object of 10 artists>)"
      ]
     },
     "execution_count": 22,
     "metadata": {},
     "output_type": "execute_result"
    },
    {
     "data": {
      "image/png": "[encoded data removed]",
      "text/plain": [
       "<Figure size 432x288 with 1 Axes>"
      ]
     },
     "metadata": {
      "needs_background": "light"
     },
     "output_type": "display_data"
    }
   ],
   "source": [
    "plt.hist([diff for diff in diff_list if diff < 50])"
   ]
  },
  {
   "cell_type": "code",
   "execution_count": 23,
   "metadata": {},
   "outputs": [
    {
     "data": {
      "text/plain": [
       "(array([16050.,  7042.,  1935.,  3251.,  4178.,  1174.,  1224.,   795.,\n",
       "         1105.,  1327.]),\n",
       " array([0. , 0.9, 1.8, 2.7, 3.6, 4.5, 5.4, 6.3, 7.2, 8.1, 9. ]),\n",
       " <BarContainer object of 10 artists>)"
      ]
     },
     "execution_count": 23,
     "metadata": {},
     "output_type": "execute_result"
    },
    {
     "data": {
      "image/png": "[encoded data removed]",
      "text/plain": [
       "<Figure size 432x288 with 1 Axes>"
      ]
     },
     "metadata": {
      "needs_background": "light"
     },
     "output_type": "display_data"
    }
   ],
   "source": [
    "plt.hist([diff for diff in diff_list if diff < 10])"
   ]
  }
 ],
 "metadata": {
  "interpreter": {
   "hash": "c45e1f4cff16ded6653d5122b243e74746b1533e5e96f730958c4db3332ffa40"
  },
  "kernelspec": {
   "display_name": "Python 3.10.0 ('AIHacks')",
   "language": "python",
   "name": "python3"
  },
  "language_info": {
   "codemirror_mode": {
    "name": "ipython",
    "version": 3
   },
   "file_extension": ".py",
   "mimetype": "text/x-python",
   "name": "python",
   "nbconvert_exporter": "python",
   "pygments_lexer": "ipython3",
   "version": "3.10.0"
  },
  "orig_nbformat": 4
 },
 "nbformat": 4,
 "nbformat_minor": 2
}
