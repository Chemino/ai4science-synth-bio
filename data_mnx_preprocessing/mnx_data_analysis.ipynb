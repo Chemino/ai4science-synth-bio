{
 "cells": [
  {
   "cell_type": "markdown",
   "metadata": {},
   "source": [
    "# Data analysis of MNX dataset\n",
    "\n",
    "To understand more about the reaction contained."
   ]
  },
  {
   "cell_type": "code",
   "execution_count": 1,
   "metadata": {},
   "outputs": [],
   "source": [
    "import pandas as pd\n",
    "import numpy as np\n",
    "import matplotlib.pyplot as plt\n",
    "from tqdm import tqdm, trange"
   ]
  },
  {
   "cell_type": "code",
   "execution_count": 2,
   "metadata": {},
   "outputs": [
    {
     "data": {
      "text/html": [
       "<div>\n",
       "<style scoped>\n",
       "    .dataframe tbody tr th:only-of-type {\n",
       "        vertical-align: middle;\n",
       "    }\n",
       "\n",
       "    .dataframe tbody tr th {\n",
       "        vertical-align: top;\n",
       "    }\n",
       "\n",
       "    .dataframe thead th {\n",
       "        text-align: right;\n",
       "    }\n",
       "</style>\n",
       "<table border=\"1\" class=\"dataframe\">\n",
       "  <thead>\n",
       "    <tr style=\"text-align: right;\">\n",
       "      <th></th>\n",
       "      <th>#ID</th>\n",
       "      <th>equation</th>\n",
       "      <th>substrates_SMILES</th>\n",
       "      <th>products_SMILES</th>\n",
       "    </tr>\n",
       "  </thead>\n",
       "  <tbody>\n",
       "    <tr>\n",
       "      <th>0</th>\n",
       "      <td>MNXR100011</td>\n",
       "      <td>1 MNXM1108175 + 1 MNXM1 + 2 MNXM27 + 1 MNXM403...</td>\n",
       "      <td>[[H+], OC[C@H]1O[C@H](O)[C@H](O)[C@@H](O)[C@H]...</td>\n",
       "      <td>[OC[C@H]1O[C@H](O)[C@H](O)[C@@H](O)[C@H]1O, [N...</td>\n",
       "    </tr>\n",
       "    <tr>\n",
       "      <th>1</th>\n",
       "      <td>MNXR100018</td>\n",
       "      <td>1 MNXM1233 + 1 MNXM73 = 1 MNXM23 + 1 MNXM731248</td>\n",
       "      <td>[OC[C@H](O)[C@@H](O)[C@@H](O)[C@H](O)CO, C=C(O...</td>\n",
       "      <td>[CC(=O)C(=O)[O-], O=P([O-])([O-])OC[C@H](O)[C@...</td>\n",
       "    </tr>\n",
       "    <tr>\n",
       "      <th>2</th>\n",
       "      <td>MNXR100024</td>\n",
       "      <td>1 MNXM1 + 1 MNXM37 + 1 MNXM40333 + 1 MNXM9 = 1...</td>\n",
       "      <td>[[H+], NC(=O)CC[C@H]([NH3+])C(=O)[O-], Nc1ncnc...</td>\n",
       "      <td>[Nc1ncnc2c1ncn2[C@@H]1O[C@H](COP(=O)([O-])OP(=...</td>\n",
       "    </tr>\n",
       "    <tr>\n",
       "      <th>3</th>\n",
       "      <td>MNXR100030</td>\n",
       "      <td>1 MNXM37 + 1 WATER = 1 MNXM729302 + 1 MNXM741173</td>\n",
       "      <td>[NC(=O)CC[C@H]([NH3+])C(=O)[O-]]</td>\n",
       "      <td>[[NH4+], [NH3+][C@@H](CCC(=O)[O-])C(=O)[O-]]</td>\n",
       "    </tr>\n",
       "    <tr>\n",
       "      <th>4</th>\n",
       "      <td>MNXR100036</td>\n",
       "      <td>1 MNXM1104266 + 1 MNXM6274 = 1 MNXM6987 + 1 MN...</td>\n",
       "      <td>[CC(=O)SCCNC(=O)CCNC(=O)[C@H](O)C(C)(C)COP(=O)...</td>\n",
       "      <td>[CCCCCCCCCCCCC/C=C/[C@@H](O)[C@H](CO[C@@H]1O[C...</td>\n",
       "    </tr>\n",
       "    <tr>\n",
       "      <th>...</th>\n",
       "      <td>...</td>\n",
       "      <td>...</td>\n",
       "      <td>...</td>\n",
       "      <td>...</td>\n",
       "    </tr>\n",
       "    <tr>\n",
       "      <th>46305</th>\n",
       "      <td>MNXR99957</td>\n",
       "      <td>1 MNXM1627 + 1 WATER = 1 MNXM1734</td>\n",
       "      <td>[O=C([O-])C(=O)C[C@@H](O)[C@H](O)CO]</td>\n",
       "      <td>[O=C([O-])[C@H](O)[C@@H](O)[C@@H](O)[C@H](O)CO]</td>\n",
       "    </tr>\n",
       "    <tr>\n",
       "      <th>46306</th>\n",
       "      <td>MNXR99976</td>\n",
       "      <td>1 MNXM1100890 + 1 MNXM1105733 = 1 MNXM1102128 ...</td>\n",
       "      <td>[CC(=O)N[C@H]1[C@@H](OP(=O)([O-])OP(=O)([O-])O...</td>\n",
       "      <td>[O=c1ccn([C@@H]2O[C@H](COP(=O)([O-])OP(=O)([O-...</td>\n",
       "    </tr>\n",
       "    <tr>\n",
       "      <th>46307</th>\n",
       "      <td>MNXR99978</td>\n",
       "      <td>1 MNXM1100890 + 1 MNXM8636 = 1 MNXM1102128 + 1...</td>\n",
       "      <td>[CC(=O)N[C@H]1[C@@H](OP(=O)([O-])OP(=O)([O-])O...</td>\n",
       "      <td>[O=c1ccn([C@@H]2O[C@H](COP(=O)([O-])OP(=O)([O-...</td>\n",
       "    </tr>\n",
       "    <tr>\n",
       "      <th>46308</th>\n",
       "      <td>MNXR99980</td>\n",
       "      <td>1 MNXM1100890 + 1 MNXM6274 = 1 MNXM1102128 + 1...</td>\n",
       "      <td>[CC(=O)N[C@H]1[C@@H](OP(=O)([O-])OP(=O)([O-])O...</td>\n",
       "      <td>[O=c1ccn([C@@H]2O[C@H](COP(=O)([O-])OP(=O)([O-...</td>\n",
       "    </tr>\n",
       "    <tr>\n",
       "      <th>46309</th>\n",
       "      <td>MNXR99982</td>\n",
       "      <td>1 MNXM1100890 + 1 MNXM7406 = 1 MNXM1102128 + 1...</td>\n",
       "      <td>[CC(=O)N[C@H]1[C@@H](OP(=O)([O-])OP(=O)([O-])O...</td>\n",
       "      <td>[O=c1ccn([C@@H]2O[C@H](COP(=O)([O-])OP(=O)([O-...</td>\n",
       "    </tr>\n",
       "  </tbody>\n",
       "</table>\n",
       "<p>46310 rows × 4 columns</p>\n",
       "</div>"
      ],
      "text/plain": [
       "              #ID                                           equation  \\\n",
       "0      MNXR100011  1 MNXM1108175 + 1 MNXM1 + 2 MNXM27 + 1 MNXM403...   \n",
       "1      MNXR100018    1 MNXM1233 + 1 MNXM73 = 1 MNXM23 + 1 MNXM731248   \n",
       "2      MNXR100024  1 MNXM1 + 1 MNXM37 + 1 MNXM40333 + 1 MNXM9 = 1...   \n",
       "3      MNXR100030   1 MNXM37 + 1 WATER = 1 MNXM729302 + 1 MNXM741173   \n",
       "4      MNXR100036  1 MNXM1104266 + 1 MNXM6274 = 1 MNXM6987 + 1 MN...   \n",
       "...           ...                                                ...   \n",
       "46305   MNXR99957                  1 MNXM1627 + 1 WATER = 1 MNXM1734   \n",
       "46306   MNXR99976  1 MNXM1100890 + 1 MNXM1105733 = 1 MNXM1102128 ...   \n",
       "46307   MNXR99978  1 MNXM1100890 + 1 MNXM8636 = 1 MNXM1102128 + 1...   \n",
       "46308   MNXR99980  1 MNXM1100890 + 1 MNXM6274 = 1 MNXM1102128 + 1...   \n",
       "46309   MNXR99982  1 MNXM1100890 + 1 MNXM7406 = 1 MNXM1102128 + 1...   \n",
       "\n",
       "                                       substrates_SMILES  \\\n",
       "0      [[H+], OC[C@H]1O[C@H](O)[C@H](O)[C@@H](O)[C@H]...   \n",
       "1      [OC[C@H](O)[C@@H](O)[C@@H](O)[C@H](O)CO, C=C(O...   \n",
       "2      [[H+], NC(=O)CC[C@H]([NH3+])C(=O)[O-], Nc1ncnc...   \n",
       "3                       [NC(=O)CC[C@H]([NH3+])C(=O)[O-]]   \n",
       "4      [CC(=O)SCCNC(=O)CCNC(=O)[C@H](O)C(C)(C)COP(=O)...   \n",
       "...                                                  ...   \n",
       "46305               [O=C([O-])C(=O)C[C@@H](O)[C@H](O)CO]   \n",
       "46306  [CC(=O)N[C@H]1[C@@H](OP(=O)([O-])OP(=O)([O-])O...   \n",
       "46307  [CC(=O)N[C@H]1[C@@H](OP(=O)([O-])OP(=O)([O-])O...   \n",
       "46308  [CC(=O)N[C@H]1[C@@H](OP(=O)([O-])OP(=O)([O-])O...   \n",
       "46309  [CC(=O)N[C@H]1[C@@H](OP(=O)([O-])OP(=O)([O-])O...   \n",
       "\n",
       "                                         products_SMILES  \n",
       "0      [OC[C@H]1O[C@H](O)[C@H](O)[C@@H](O)[C@H]1O, [N...  \n",
       "1      [CC(=O)C(=O)[O-], O=P([O-])([O-])OC[C@H](O)[C@...  \n",
       "2      [Nc1ncnc2c1ncn2[C@@H]1O[C@H](COP(=O)([O-])OP(=...  \n",
       "3           [[NH4+], [NH3+][C@@H](CCC(=O)[O-])C(=O)[O-]]  \n",
       "4      [CCCCCCCCCCCCC/C=C/[C@@H](O)[C@H](CO[C@@H]1O[C...  \n",
       "...                                                  ...  \n",
       "46305    [O=C([O-])[C@H](O)[C@@H](O)[C@@H](O)[C@H](O)CO]  \n",
       "46306  [O=c1ccn([C@@H]2O[C@H](COP(=O)([O-])OP(=O)([O-...  \n",
       "46307  [O=c1ccn([C@@H]2O[C@H](COP(=O)([O-])OP(=O)([O-...  \n",
       "46308  [O=c1ccn([C@@H]2O[C@H](COP(=O)([O-])OP(=O)([O-...  \n",
       "46309  [O=c1ccn([C@@H]2O[C@H](COP(=O)([O-])OP(=O)([O-...  \n",
       "\n",
       "[46310 rows x 4 columns]"
      ]
     },
     "execution_count": 2,
     "metadata": {},
     "output_type": "execute_result"
    }
   ],
   "source": [
    "reac = pd.read_csv('mnx_reac_bioreachable.csv')\n",
    "for col in ['substrates_SMILES', 'products_SMILES']:\n",
    "    reac[col] = reac[col].apply(eval) # convert list in strings into python list objects\n",
    "reac"
   ]
  },
  {
   "cell_type": "markdown",
   "metadata": {},
   "source": [
    "## Measure the difference between substrates and products\n",
    "\n",
    "### Two strategies\n",
    "\n",
    "1. Compare the number of atoms between biggest molecule in subtrates and products\n",
    "    - Take the largest molecule from both substrates and products\n",
    "    - Compute the difference in number of molecules between biggest substrates and biggest products\n",
    "\n",
    "2. Compare the number of atoms between biggest molecule in substrates and products with the maximum common substructure (MCS)\n",
    "    - Take the largest molecule from both substrates and products\n",
    "    - Compute the MCS between those two molecules\n",
    "    - Compute the max of difference in number of molecules between biggest molecules in either substrates or products and the MCS"
   ]
  },
  {
   "cell_type": "code",
   "execution_count": 3,
   "metadata": {},
   "outputs": [],
   "source": [
    "from rdkit.Chem import MolFromSmiles, MolToSmiles, rdFMCS\n",
    "\n",
    "def numAtoms(mol):\n",
    "    return len(list(mol.GetAtoms()))"
   ]
  },
  {
   "cell_type": "markdown",
   "metadata": {},
   "source": [
    "### First strategy - difference in number of atoms"
   ]
  },
  {
   "cell_type": "code",
   "execution_count": 4,
   "metadata": {},
   "outputs": [
    {
     "name": "stderr",
     "output_type": "stream",
     "text": [
      "100%|██████████| 46310/46310 [01:15<00:00, 616.97it/s]\n"
     ]
    }
   ],
   "source": [
    "diff_list = []\n",
    "for i in trange(len(reac)):\n",
    "\n",
    "    substrates_mol = [MolFromSmiles(smi) for smi in reac.loc[i, 'substrates_SMILES']]\n",
    "    products_mol = [MolFromSmiles(smi) for smi in reac.loc[i, 'products_SMILES']]\n",
    "    \n",
    "    substrate_max = max(substrates_mol, key=numAtoms)\n",
    "    product_max = max(products_mol, key=numAtoms)\n",
    "    # print(MolToSmiles(substrate_max), MolToSmiles(product_max))\n",
    "\n",
    "    diff = abs(numAtoms(substrate_max) - numAtoms(product_max))\n",
    "    # print(diff)\n",
    "\n",
    "    diff_list.append(diff)"
   ]
  },
  {
   "cell_type": "code",
   "execution_count": 5,
   "metadata": {},
   "outputs": [
    {
     "data": {
      "image/png": "[encoded data removed]",
      "text/plain": [
       "<Figure size 432x288 with 1 Axes>"
      ]
     },
     "metadata": {
      "needs_background": "light"
     },
     "output_type": "display_data"
    }
   ],
   "source": [
    "plt.hist([diff for diff in diff_list if diff < 10])\n",
    "plt.ylabel('# Reactions')\n",
    "plt.xlabel('Difference in # atoms between biggest molecule in substrates & products')\n",
    "plt.title('A crude measure of how substrates & products differ in the reactions')\n",
    "\n",
    "plt.tight_layout()\n",
    "plt.show()"
   ]
  },
  {
   "cell_type": "markdown",
   "metadata": {},
   "source": [
    "### Second strategy - maximum common substructure"
   ]
  },
  {
   "cell_type": "code",
   "execution_count": 6,
   "metadata": {},
   "outputs": [
    {
     "name": "stderr",
     "output_type": "stream",
     "text": [
      "100%|██████████| 46310/46310 [1:19:31<00:00,  9.71it/s]  \n"
     ]
    }
   ],
   "source": [
    "diff_list = []\n",
    "for i in trange(len(reac)):\n",
    "\n",
    "    substrates_mol = [MolFromSmiles(smi) for smi in reac.loc[i, 'substrates_SMILES']]\n",
    "    products_mol = [MolFromSmiles(smi) for smi in reac.loc[i, 'products_SMILES']]\n",
    "    \n",
    "    substrate_max = max(substrates_mol, key=numAtoms)\n",
    "    product_max = max(products_mol, key=numAtoms)\n",
    "    # print(MolToSmiles(substrate_max), MolToSmiles(product_max))\n",
    "\n",
    "    mcs = rdFMCS.FindMCS([substrate_max, product_max], timeout=1)\n",
    "    diff = max(abs(numAtoms(substrate_max) - mcs.numAtoms), abs(numAtoms(product_max) - mcs.numAtoms))\n",
    "    # print(diff)\n",
    "\n",
    "    diff_list.append(diff)"
   ]
  },
  {
   "cell_type": "code",
   "execution_count": 10,
   "metadata": {},
   "outputs": [
    {
     "data": {
      "image/png": "[encoded data removed]",
      "text/plain": [
       "<Figure size 432x288 with 1 Axes>"
      ]
     },
     "metadata": {
      "needs_background": "light"
     },
     "output_type": "display_data"
    }
   ],
   "source": [
    "plt.hist([diff for diff in diff_list if diff < 100])\n",
    "plt.ylabel('# Reactions')\n",
    "plt.xlabel('Difference in # atoms between biggest molecule in substrates OR products\\nAND their maximum common substructure (MCS)')\n",
    "plt.title('A slightly better measure of how substrates & products differ in the reactions')\n",
    "\n",
    "plt.tight_layout()\n",
    "plt.show()"
   ]
  },
  {
   "cell_type": "code",
   "execution_count": 8,
   "metadata": {},
   "outputs": [
    {
     "data": {
      "image/png": "[encoded data removed]",
      "text/plain": [
       "<Figure size 432x288 with 1 Axes>"
      ]
     },
     "metadata": {
      "needs_background": "light"
     },
     "output_type": "display_data"
    }
   ],
   "source": [
    "plt.hist([diff for diff in diff_list if diff < 10])\n",
    "plt.ylabel('# Reactions')\n",
    "plt.xlabel('Difference in # atoms between biggest molecule in substrates OR products\\nAND their maximum common substructure (MCS)')\n",
    "plt.title('A slightly better measure of how substrates & products differ in the reactions')\n",
    "\n",
    "plt.tight_layout()\n",
    "plt.show()"
   ]
  }
 ],
 "metadata": {
  "interpreter": {
   "hash": "340bcad0072f115b1765b142a3d880742cff9ef9e50a441d07591b989afd1795"
  },
  "kernelspec": {
   "display_name": "Python 3.10.2 ('AIHacks')",
   "language": "python",
   "name": "python3"
  },
  "language_info": {
   "codemirror_mode": {
    "name": "ipython",
    "version": 3
   },
   "file_extension": ".py",
   "mimetype": "text/x-python",
   "name": "python",
   "nbconvert_exporter": "python",
   "pygments_lexer": "ipython3",
   "version": "3.10.2"
  },
  "orig_nbformat": 4
 },
 "nbformat": 4,
 "nbformat_minor": 2
}
